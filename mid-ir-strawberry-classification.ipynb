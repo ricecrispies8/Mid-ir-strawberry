{
 "cells": [
  {
   "cell_type": "markdown",
   "metadata": {},
   "source": [
    "## To Dos\n",
    "<ol>\n",
    "    <li> PLS-DA for comparison</li>\n",
    "    <li> What other EDA can be performed?</li>\n",
    "    <li> Explore using NN, finish reading paper NN paper</li>\n",
    "    <li> Hyperparater tuning with new train_test_split</li>\n",
    "    <li></li>\n",
    "    <li></li>\n",
    "    <li></li>\n",
    "    <li> Introduction and Conclusion</li>\n",
    "</ol>"
   ]
  },
  {
   "cell_type": "markdown",
   "metadata": {},
   "source": [
    "# Strawberry Classification via mid-IR Spectra\n",
    "\n",
    "## Introduction\n",
    "\n",
    "Classification of IR spectra was one of the first hallmarks of chemometrics. Karl Norris in the 1970's found a use for NIR spectra uisng chemometric models such as partial least squares (PLS). PLS has been used for years in regression analysis when there is a high number of features expressing multicollinearity. Because of the similarities in linearity between wavenumbers, PLS is a prime candidate for extracting meaningful information from IR spectra... \n",
    "\n",
    "### Question\n",
    "\n",
    "Would one of the more modern machine learning techniques such as boosting, random forest, or k-nearest neighbors provide a better prediction accuracy than partial least squares? **Try NN like the second paper?**\n",
    "\n",
    "### Data / Libraries\n",
    "\n",
    "The data used is from the original spectra used by Holland, Kemsley, and Wilson<sup>2</sup>."
   ]
  },
  {
   "cell_type": "code",
   "execution_count": 10,
   "metadata": {
    "execution": {
     "iopub.execute_input": "2021-11-24T00:51:59.344732Z",
     "iopub.status.busy": "2021-11-24T00:51:59.344425Z",
     "iopub.status.idle": "2021-11-24T00:51:59.398568Z",
     "shell.execute_reply": "2021-11-24T00:51:59.397898Z",
     "shell.execute_reply.started": "2021-11-24T00:51:59.344703Z"
    },
    "scrolled": true
   },
   "outputs": [],
   "source": [
    "import pandas as pd\n",
    "import numpy as np\n",
    "import scipy.io as spy\n",
    "import matplotlib.pyplot as plt\n",
    "import re\n",
    "from imblearn.over_sampling import SMOTE\n",
    "import seaborn as sns\n",
    "\n",
    "\n",
    "from sklearn.ensemble import RandomForestClassifier, GradientBoostingClassifier, VotingClassifier\n",
    "from sklearn.metrics import classification_report, confusion_matrix\n",
    "from sklearn.model_selection import train_test_split\n",
    "from sklearn.datasets import make_classification\n",
    "from sklearn.neighbors import KNeighborsClassifier\n",
    "from sklearn.preprocessing import StandardScaler\n",
    "import xgboost as xgb\n",
    "\n",
    "\n",
    "df = pd.read_csv('MIR_Fruit_purees.csv')"
   ]
  },
  {
   "cell_type": "code",
   "execution_count": 16,
   "metadata": {
    "execution": {
     "iopub.execute_input": "2021-11-24T00:52:04.807492Z",
     "iopub.status.busy": "2021-11-24T00:52:04.807001Z",
     "iopub.status.idle": "2021-11-24T00:52:04.816191Z",
     "shell.execute_reply": "2021-11-24T00:52:04.815141Z",
     "shell.execute_reply.started": "2021-11-24T00:52:04.807455Z"
    }
   },
   "outputs": [
    {
     "data": {
      "text/plain": [
       "(983, 236)"
      ]
     },
     "execution_count": 16,
     "metadata": {},
     "output_type": "execute_result"
    }
   ],
   "source": [
    "df.shape"
   ]
  },
  {
   "cell_type": "code",
   "execution_count": 17,
   "metadata": {},
   "outputs": [
    {
     "data": {
      "image/png": "[encoded data removed]",
      "text/plain": [
       "<Figure size 432x288 with 1 Axes>"
      ]
     },
     "metadata": {
      "needs_background": "light"
     },
     "output_type": "display_data"
    }
   ],
   "source": [
    "sns.countplot(x=df['target']);"
   ]
  },
  {
   "cell_type": "markdown",
   "metadata": {},
   "source": [
    "## Data Cleaning\n",
    "\n",
    "Fortunately, the date for this set is relatively clean. The only issue was the target variable being a string instead of an integer. All classification models used need integers in order to function properly. This is easily remedied using OneHot encoding through the `pd.get_dummies` function. "
   ]
  },
  {
   "cell_type": "code",
   "execution_count": 4,
   "metadata": {
    "execution": {
     "iopub.execute_input": "2021-11-24T00:56:03.266304Z",
     "iopub.status.busy": "2021-11-24T00:56:03.265545Z",
     "iopub.status.idle": "2021-11-24T00:56:03.29079Z",
     "shell.execute_reply": "2021-11-24T00:56:03.290207Z",
     "shell.execute_reply.started": "2021-11-24T00:56:03.266245Z"
    },
    "scrolled": true
   },
   "outputs": [],
   "source": [
    "df = pd.get_dummies(df, drop_first=True)"
   ]
  },
  {
   "cell_type": "markdown",
   "metadata": {},
   "source": [
    "## Exploratory Data Analysis\n",
    "\n",
    "One of the first things I like to explore in a new dataframe mean, std, and percentiles of the data. This is quickly done using `df.describe()`. "
   ]
  },
  {
   "cell_type": "code",
   "execution_count": 5,
   "metadata": {
    "execution": {
     "iopub.execute_input": "2021-11-24T00:56:04.416902Z",
     "iopub.status.busy": "2021-11-24T00:56:04.416347Z",
     "iopub.status.idle": "2021-11-24T00:56:04.816807Z",
     "shell.execute_reply": "2021-11-24T00:56:04.816119Z",
     "shell.execute_reply.started": "2021-11-24T00:56:04.416867Z"
    }
   },
   "outputs": [
    {
     "data": {
      "text/html": [
       "<div>\n",
       "<style scoped>\n",
       "    .dataframe tbody tr th:only-of-type {\n",
       "        vertical-align: middle;\n",
       "    }\n",
       "\n",
       "    .dataframe tbody tr th {\n",
       "        vertical-align: top;\n",
       "    }\n",
       "\n",
       "    .dataframe thead th {\n",
       "        text-align: right;\n",
       "    }\n",
       "</style>\n",
       "<table border=\"1\" class=\"dataframe\">\n",
       "  <thead>\n",
       "    <tr style=\"text-align: right;\">\n",
       "      <th></th>\n",
       "      <th>899.327</th>\n",
       "      <th>903.187</th>\n",
       "      <th>907.047</th>\n",
       "      <th>910.907</th>\n",
       "      <th>914.767</th>\n",
       "      <th>918.627</th>\n",
       "      <th>922.487</th>\n",
       "      <th>926.347</th>\n",
       "      <th>930.207</th>\n",
       "      <th>934.067</th>\n",
       "      <th>...</th>\n",
       "      <th>1771.684</th>\n",
       "      <th>1775.544</th>\n",
       "      <th>1779.404</th>\n",
       "      <th>1783.264</th>\n",
       "      <th>1787.124</th>\n",
       "      <th>1790.984</th>\n",
       "      <th>1794.844</th>\n",
       "      <th>1798.704</th>\n",
       "      <th>1802.564</th>\n",
       "      <th>target_Strawberry</th>\n",
       "    </tr>\n",
       "  </thead>\n",
       "  <tbody>\n",
       "    <tr>\n",
       "      <th>count</th>\n",
       "      <td>983.000000</td>\n",
       "      <td>983.000000</td>\n",
       "      <td>983.000000</td>\n",
       "      <td>983.000000</td>\n",
       "      <td>983.000000</td>\n",
       "      <td>983.000000</td>\n",
       "      <td>983.000000</td>\n",
       "      <td>983.000000</td>\n",
       "      <td>983.000000</td>\n",
       "      <td>983.000000</td>\n",
       "      <td>...</td>\n",
       "      <td>983.000000</td>\n",
       "      <td>983.000000</td>\n",
       "      <td>983.000000</td>\n",
       "      <td>983.000000</td>\n",
       "      <td>983.000000</td>\n",
       "      <td>983.000000</td>\n",
       "      <td>983.000000</td>\n",
       "      <td>983.000000</td>\n",
       "      <td>983.000000</td>\n",
       "      <td>983.00000</td>\n",
       "    </tr>\n",
       "    <tr>\n",
       "      <th>mean</th>\n",
       "      <td>0.002450</td>\n",
       "      <td>0.002465</td>\n",
       "      <td>0.002495</td>\n",
       "      <td>0.002604</td>\n",
       "      <td>0.002811</td>\n",
       "      <td>0.003044</td>\n",
       "      <td>0.003176</td>\n",
       "      <td>0.003174</td>\n",
       "      <td>0.003096</td>\n",
       "      <td>0.002994</td>\n",
       "      <td>...</td>\n",
       "      <td>0.000218</td>\n",
       "      <td>0.000139</td>\n",
       "      <td>0.000092</td>\n",
       "      <td>0.000062</td>\n",
       "      <td>0.000041</td>\n",
       "      <td>0.000029</td>\n",
       "      <td>0.000019</td>\n",
       "      <td>0.000009</td>\n",
       "      <td>0.000008</td>\n",
       "      <td>0.35707</td>\n",
       "    </tr>\n",
       "    <tr>\n",
       "      <th>std</th>\n",
       "      <td>0.000342</td>\n",
       "      <td>0.000351</td>\n",
       "      <td>0.000383</td>\n",
       "      <td>0.000428</td>\n",
       "      <td>0.000495</td>\n",
       "      <td>0.000596</td>\n",
       "      <td>0.000710</td>\n",
       "      <td>0.000792</td>\n",
       "      <td>0.000790</td>\n",
       "      <td>0.000718</td>\n",
       "      <td>...</td>\n",
       "      <td>0.000159</td>\n",
       "      <td>0.000122</td>\n",
       "      <td>0.000100</td>\n",
       "      <td>0.000078</td>\n",
       "      <td>0.000059</td>\n",
       "      <td>0.000039</td>\n",
       "      <td>0.000026</td>\n",
       "      <td>0.000011</td>\n",
       "      <td>0.000011</td>\n",
       "      <td>0.47938</td>\n",
       "    </tr>\n",
       "    <tr>\n",
       "      <th>min</th>\n",
       "      <td>0.001391</td>\n",
       "      <td>0.001389</td>\n",
       "      <td>0.001371</td>\n",
       "      <td>0.001472</td>\n",
       "      <td>0.001585</td>\n",
       "      <td>0.001667</td>\n",
       "      <td>0.001738</td>\n",
       "      <td>0.001754</td>\n",
       "      <td>0.001791</td>\n",
       "      <td>0.001836</td>\n",
       "      <td>...</td>\n",
       "      <td>-0.000073</td>\n",
       "      <td>-0.000061</td>\n",
       "      <td>-0.000050</td>\n",
       "      <td>-0.000049</td>\n",
       "      <td>-0.000084</td>\n",
       "      <td>-0.000023</td>\n",
       "      <td>-0.000055</td>\n",
       "      <td>-0.000014</td>\n",
       "      <td>-0.000014</td>\n",
       "      <td>0.00000</td>\n",
       "    </tr>\n",
       "    <tr>\n",
       "      <th>25%</th>\n",
       "      <td>0.002227</td>\n",
       "      <td>0.002226</td>\n",
       "      <td>0.002239</td>\n",
       "      <td>0.002313</td>\n",
       "      <td>0.002478</td>\n",
       "      <td>0.002642</td>\n",
       "      <td>0.002684</td>\n",
       "      <td>0.002633</td>\n",
       "      <td>0.002554</td>\n",
       "      <td>0.002505</td>\n",
       "      <td>...</td>\n",
       "      <td>0.000118</td>\n",
       "      <td>0.000067</td>\n",
       "      <td>0.000038</td>\n",
       "      <td>0.000023</td>\n",
       "      <td>0.000014</td>\n",
       "      <td>0.000013</td>\n",
       "      <td>0.000007</td>\n",
       "      <td>0.000004</td>\n",
       "      <td>0.000002</td>\n",
       "      <td>0.00000</td>\n",
       "    </tr>\n",
       "    <tr>\n",
       "      <th>50%</th>\n",
       "      <td>0.002449</td>\n",
       "      <td>0.002469</td>\n",
       "      <td>0.002494</td>\n",
       "      <td>0.002592</td>\n",
       "      <td>0.002779</td>\n",
       "      <td>0.002969</td>\n",
       "      <td>0.003054</td>\n",
       "      <td>0.003025</td>\n",
       "      <td>0.002948</td>\n",
       "      <td>0.002856</td>\n",
       "      <td>...</td>\n",
       "      <td>0.000192</td>\n",
       "      <td>0.000116</td>\n",
       "      <td>0.000074</td>\n",
       "      <td>0.000048</td>\n",
       "      <td>0.000031</td>\n",
       "      <td>0.000022</td>\n",
       "      <td>0.000014</td>\n",
       "      <td>0.000008</td>\n",
       "      <td>0.000007</td>\n",
       "      <td>0.00000</td>\n",
       "    </tr>\n",
       "    <tr>\n",
       "      <th>75%</th>\n",
       "      <td>0.002711</td>\n",
       "      <td>0.002728</td>\n",
       "      <td>0.002776</td>\n",
       "      <td>0.002916</td>\n",
       "      <td>0.003165</td>\n",
       "      <td>0.003427</td>\n",
       "      <td>0.003590</td>\n",
       "      <td>0.003601</td>\n",
       "      <td>0.003502</td>\n",
       "      <td>0.003362</td>\n",
       "      <td>...</td>\n",
       "      <td>0.000286</td>\n",
       "      <td>0.000183</td>\n",
       "      <td>0.000121</td>\n",
       "      <td>0.000079</td>\n",
       "      <td>0.000058</td>\n",
       "      <td>0.000036</td>\n",
       "      <td>0.000024</td>\n",
       "      <td>0.000012</td>\n",
       "      <td>0.000011</td>\n",
       "      <td>1.00000</td>\n",
       "    </tr>\n",
       "    <tr>\n",
       "      <th>max</th>\n",
       "      <td>0.003317</td>\n",
       "      <td>0.003450</td>\n",
       "      <td>0.003648</td>\n",
       "      <td>0.003943</td>\n",
       "      <td>0.004506</td>\n",
       "      <td>0.005230</td>\n",
       "      <td>0.005935</td>\n",
       "      <td>0.006418</td>\n",
       "      <td>0.006391</td>\n",
       "      <td>0.005979</td>\n",
       "      <td>...</td>\n",
       "      <td>0.001495</td>\n",
       "      <td>0.001423</td>\n",
       "      <td>0.001319</td>\n",
       "      <td>0.001122</td>\n",
       "      <td>0.000889</td>\n",
       "      <td>0.000644</td>\n",
       "      <td>0.000380</td>\n",
       "      <td>0.000187</td>\n",
       "      <td>0.000187</td>\n",
       "      <td>1.00000</td>\n",
       "    </tr>\n",
       "  </tbody>\n",
       "</table>\n",
       "<p>8 rows × 236 columns</p>\n",
       "</div>"
      ],
      "text/plain": [
       "          899.327     903.187     907.047     910.907     914.767     918.627  \\\n",
       "count  983.000000  983.000000  983.000000  983.000000  983.000000  983.000000   \n",
       "mean     0.002450    0.002465    0.002495    0.002604    0.002811    0.003044   \n",
       "std      0.000342    0.000351    0.000383    0.000428    0.000495    0.000596   \n",
       "min      0.001391    0.001389    0.001371    0.001472    0.001585    0.001667   \n",
       "25%      0.002227    0.002226    0.002239    0.002313    0.002478    0.002642   \n",
       "50%      0.002449    0.002469    0.002494    0.002592    0.002779    0.002969   \n",
       "75%      0.002711    0.002728    0.002776    0.002916    0.003165    0.003427   \n",
       "max      0.003317    0.003450    0.003648    0.003943    0.004506    0.005230   \n",
       "\n",
       "          922.487     926.347     930.207     934.067  ...    1771.684  \\\n",
       "count  983.000000  983.000000  983.000000  983.000000  ...  983.000000   \n",
       "mean     0.003176    0.003174    0.003096    0.002994  ...    0.000218   \n",
       "std      0.000710    0.000792    0.000790    0.000718  ...    0.000159   \n",
       "min      0.001738    0.001754    0.001791    0.001836  ...   -0.000073   \n",
       "25%      0.002684    0.002633    0.002554    0.002505  ...    0.000118   \n",
       "50%      0.003054    0.003025    0.002948    0.002856  ...    0.000192   \n",
       "75%      0.003590    0.003601    0.003502    0.003362  ...    0.000286   \n",
       "max      0.005935    0.006418    0.006391    0.005979  ...    0.001495   \n",
       "\n",
       "         1775.544    1779.404    1783.264    1787.124    1790.984    1794.844  \\\n",
       "count  983.000000  983.000000  983.000000  983.000000  983.000000  983.000000   \n",
       "mean     0.000139    0.000092    0.000062    0.000041    0.000029    0.000019   \n",
       "std      0.000122    0.000100    0.000078    0.000059    0.000039    0.000026   \n",
       "min     -0.000061   -0.000050   -0.000049   -0.000084   -0.000023   -0.000055   \n",
       "25%      0.000067    0.000038    0.000023    0.000014    0.000013    0.000007   \n",
       "50%      0.000116    0.000074    0.000048    0.000031    0.000022    0.000014   \n",
       "75%      0.000183    0.000121    0.000079    0.000058    0.000036    0.000024   \n",
       "max      0.001423    0.001319    0.001122    0.000889    0.000644    0.000380   \n",
       "\n",
       "         1798.704    1802.564  target_Strawberry  \n",
       "count  983.000000  983.000000          983.00000  \n",
       "mean     0.000009    0.000008            0.35707  \n",
       "std      0.000011    0.000011            0.47938  \n",
       "min     -0.000014   -0.000014            0.00000  \n",
       "25%      0.000004    0.000002            0.00000  \n",
       "50%      0.000008    0.000007            0.00000  \n",
       "75%      0.000012    0.000011            1.00000  \n",
       "max      0.000187    0.000187            1.00000  \n",
       "\n",
       "[8 rows x 236 columns]"
      ]
     },
     "execution_count": 5,
     "metadata": {},
     "output_type": "execute_result"
    }
   ],
   "source": [
    "df.describe()"
   ]
  },
  {
   "cell_type": "markdown",
   "metadata": {},
   "source": [
    "Looking at the mean of the `target_Strawberry` shows that this is a somewhat imbalanced data sets. Any result from the model will likely favor the negative results, or not strawberry. Imbalanced data tends to still have a fine result for accuracy, but the recall or precision can suffer as a result. In this case, recall due to being more 0 values than 1. Something to keep in mind going forward.\n",
    "\n",
    "Now, lets plot a few different ways to look at the data. First, I will plot all of the data together. Then I will separate the data into 'strawberry' and 'not strawberry' data sets to see how the two compare. Finally, I will take the mean of both and plot them on top of eachother to see what that looks like.\n",
    "\n",
    "Before any plots can be made, it is important to drop the target column from each data frame. When comparing the strawberry vs. not strawberry, the target column does not need to be retained. However, for the complete data set used for predictions, I'll keep the target as my `y` variable to be used later in the modeling."
   ]
  },
  {
   "cell_type": "code",
   "execution_count": 6,
   "metadata": {
    "execution": {
     "iopub.execute_input": "2021-11-24T00:56:14.607898Z",
     "iopub.status.busy": "2021-11-24T00:56:14.607189Z",
     "iopub.status.idle": "2021-11-24T00:56:14.611956Z",
     "shell.execute_reply": "2021-11-24T00:56:14.610909Z",
     "shell.execute_reply.started": "2021-11-24T00:56:14.607858Z"
    }
   },
   "outputs": [],
   "source": [
    "SPEC_RANGE = np.linspace(899, 1802.6, 235)"
   ]
  },
  {
   "cell_type": "code",
   "execution_count": null,
   "metadata": {
    "execution": {
     "iopub.execute_input": "2021-11-24T00:56:30.435339Z",
     "iopub.status.busy": "2021-11-24T00:56:30.434747Z",
     "iopub.status.idle": "2021-11-24T00:56:30.441757Z",
     "shell.execute_reply": "2021-11-24T00:56:30.441228Z",
     "shell.execute_reply.started": "2021-11-24T00:56:30.435288Z"
    },
    "scrolled": true
   },
   "outputs": [],
   "source": [
    "X = df.drop('target_Strawberry', axis=1)\n",
    "y = df['target_Strawberry']\n",
    "X = (1 - X) * 100"
   ]
  },
  {
   "cell_type": "code",
   "execution_count": null,
   "metadata": {
    "execution": {
     "iopub.execute_input": "2021-11-24T00:56:34.053085Z",
     "iopub.status.busy": "2021-11-24T00:56:34.052539Z",
     "iopub.status.idle": "2021-11-24T00:56:34.064489Z",
     "shell.execute_reply": "2021-11-24T00:56:34.063723Z",
     "shell.execute_reply.started": "2021-11-24T00:56:34.053036Z"
    }
   },
   "outputs": [],
   "source": [
    "strawberry = df.loc[df['target_Strawberry'] == 0]\n",
    "strawberry = strawberry.drop('target_Strawberry', axis=1)\n",
    "strawberry = (1 - strawberry) * 100\n",
    "not_strawberry = df.loc[df['target_Strawberry'] == 1]\n",
    "not_strawberry = not_strawberry.drop('target_Strawberry', axis=1)\n",
    "not_strawberry = (1 - not_strawberry) * 100"
   ]
  },
  {
   "cell_type": "code",
   "execution_count": null,
   "metadata": {
    "execution": {
     "iopub.execute_input": "2021-11-24T00:56:35.112623Z",
     "iopub.status.busy": "2021-11-24T00:56:35.112353Z",
     "iopub.status.idle": "2021-11-24T00:56:37.653867Z",
     "shell.execute_reply": "2021-11-24T00:56:37.652987Z",
     "shell.execute_reply.started": "2021-11-24T00:56:35.112595Z"
    }
   },
   "outputs": [],
   "source": [
    "fig, ax = plt.subplots(figsize=(15,10))\n",
    "ax.plot(SPEC_RANGE, X.T.values);\n",
    "ax.set_xlabel('Wavenumbers');\n",
    "ax.set_ylabel('Transmittance');\n",
    "ax.set_title('All mid-IR Spectra Data');\n",
    "ax.invert_xaxis()\n",
    "fig.savefig('All spectra.png')"
   ]
  },
  {
   "cell_type": "code",
   "execution_count": null,
   "metadata": {
    "execution": {
     "iopub.execute_input": "2021-11-24T00:56:37.655507Z",
     "iopub.status.busy": "2021-11-24T00:56:37.655291Z",
     "iopub.status.idle": "2021-11-24T00:56:39.67261Z",
     "shell.execute_reply": "2021-11-24T00:56:39.671817Z",
     "shell.execute_reply.started": "2021-11-24T00:56:37.65548Z"
    }
   },
   "outputs": [],
   "source": [
    "fig, ax = plt.subplots(2,1, sharey=True, figsize=(15,10))\n",
    "ax[0].plot(SPEC_RANGE, strawberry.T.values);\n",
    "ax[0].set_ylabel('Transmittance');\n",
    "ax[0].set_title('Scans with Strawberry');\n",
    "ax[0].invert_xaxis()\n",
    "\n",
    "ax[1].plot(SPEC_RANGE, not_strawberry.T.values);\n",
    "ax[1].set_ylabel('Transmittance');\n",
    "ax[1].set_xlabel('Wavenumbers');\n",
    "ax[1].set_title('Scans without Strawberry');\n",
    "ax[1].invert_xaxis()"
   ]
  },
  {
   "cell_type": "markdown",
   "metadata": {},
   "source": [
    "## Modeling\n",
    "\n",
    "With the exploratory stage complete, it is time to start modeling the data. The 'modern' models that are going to be used will be K-nearest neighbors, random forest and boosting. Boosting and random forest use decision trees to make their predictions. While random forest uses a more randomized approach to check different feature columns (in this case wavenumbers) and values, boosting learns from each iteration to try and improve upon the previous iteration. K-nearest neighbors (KNN) is classification technique used to predict an unknown value by looking at the labels of points similar. The K value is the number of neighbors looked at near the unknown. The highest total from the labeled neighbors determines what the unknown prediction will be.\n",
    "\n",
    "It is important, especially for KNN, for the data to be normalized. This is quickly performed using StandardScaler from sklearn. Because of the imbalance of the data, more than double of the not-strawberry samples vs. strawberry, it might be wise to run an imbalance technique known as Synthetic Minority Oversampling Technique (SMOTE).\n",
    "\n",
    "Hyper parameter tuning is crucial for each of these and will help to fine tune the best parameters for the models.\n",
    "\n",
    "At the finish, both models will be placed in an ensemble Voting Classifier in order to compare how each 'voted' to get the best result from the models.  "
   ]
  },
  {
   "cell_type": "code",
   "execution_count": null,
   "metadata": {
    "execution": {
     "iopub.execute_input": "2021-11-24T00:56:39.674286Z",
     "iopub.status.busy": "2021-11-24T00:56:39.673758Z",
     "iopub.status.idle": "2021-11-24T00:56:39.736091Z",
     "shell.execute_reply": "2021-11-24T00:56:39.735283Z",
     "shell.execute_reply.started": "2021-11-24T00:56:39.674236Z"
    }
   },
   "outputs": [],
   "source": [
    "X_train, X_test, y_train, y_test = train_test_split(X,y, test_size=0.3, random_state=42)\n",
    "\n",
    "scaler = StandardScaler()\n",
    "X_train_scaled = scaler.fit_transform(X_train)\n",
    "X_test_scaled = scaler.fit_transform(X_test)\n",
    "\n",
    "sm = SMOTE(random_state=1)\n",
    "X_train_smote, y_train_smote = sm.fit_resample(X_train_scaled, y_train)"
   ]
  },
  {
   "cell_type": "code",
   "execution_count": null,
   "metadata": {
    "execution": {
     "iopub.execute_input": "2021-11-24T00:56:39.737963Z",
     "iopub.status.busy": "2021-11-24T00:56:39.737732Z",
     "iopub.status.idle": "2021-11-24T00:56:40.719472Z",
     "shell.execute_reply": "2021-11-24T00:56:40.718635Z",
     "shell.execute_reply.started": "2021-11-24T00:56:39.737935Z"
    },
    "scrolled": true
   },
   "outputs": [],
   "source": [
    "rf = RandomForestClassifier(n_estimators=200)\n",
    "rf.fit(X_train_scaled,y_train);\n",
    "\n",
    "y_pred = rf.predict(X_test_scaled)\n",
    "\n",
    "class_report = classification_report(y_test, y_pred)\n",
    "print(class_report)\n",
    "\n",
    "cm = confusion_matrix(y_test, y_pred)\n",
    "cm"
   ]
  },
  {
   "cell_type": "code",
   "execution_count": null,
   "metadata": {
    "execution": {
     "iopub.execute_input": "2021-11-24T00:56:40.721164Z",
     "iopub.status.busy": "2021-11-24T00:56:40.720943Z",
     "iopub.status.idle": "2021-11-24T00:56:41.655711Z",
     "shell.execute_reply": "2021-11-24T00:56:41.654877Z",
     "shell.execute_reply.started": "2021-11-24T00:56:40.721136Z"
    }
   },
   "outputs": [],
   "source": [
    "boost = xgb.XGBClassifier(objective='binary:logistic', eval_metric = 'auc', seed=42)\n",
    "\n",
    "model_boost = boost.fit(X_train_scaled, y_train)\n",
    "\n",
    "y_pred_boost = boost.predict(X_test_scaled)\n",
    "\n",
    "acc_boost = classification_report(y_test, y_pred_boost)\n",
    "print(acc_boost)\n",
    "\n",
    "cm_boost = confusion_matrix(y_test, y_pred_boost)\n",
    "cm_boost"
   ]
  },
  {
   "cell_type": "code",
   "execution_count": null,
   "metadata": {
    "execution": {
     "iopub.execute_input": "2021-11-24T00:56:41.657624Z",
     "iopub.status.busy": "2021-11-24T00:56:41.6572Z",
     "iopub.status.idle": "2021-11-24T00:56:41.758834Z",
     "shell.execute_reply": "2021-11-24T00:56:41.757955Z",
     "shell.execute_reply.started": "2021-11-24T00:56:41.657593Z"
    }
   },
   "outputs": [],
   "source": [
    "knn = KNeighborsClassifier(n_neighbors=3)\n",
    "model_knn = knn.fit(X_train_scaled, y_train)\n",
    "\n",
    "y_pred_knn = knn.predict(X_test_scaled)\n",
    "\n",
    "acc_knn = classification_report(y_test, y_pred_knn)\n",
    "print(acc_knn)\n",
    "\n",
    "cm_knn = confusion_matrix(y_test, y_pred_knn)\n",
    "cm_knn"
   ]
  },
  {
   "cell_type": "code",
   "execution_count": null,
   "metadata": {
    "execution": {
     "iopub.execute_input": "2021-11-24T00:56:41.76063Z",
     "iopub.status.busy": "2021-11-24T00:56:41.760226Z",
     "iopub.status.idle": "2021-11-24T00:56:43.757136Z",
     "shell.execute_reply": "2021-11-24T00:56:43.756312Z",
     "shell.execute_reply.started": "2021-11-24T00:56:41.760588Z"
    }
   },
   "outputs": [],
   "source": [
    "classifiers = [('Random Forest', rf), ('Boosting', boost), ('KNN', knn)]\n",
    "\n",
    "vc = VotingClassifier (estimators = classifiers)\n",
    "vc.fit(X_train_scaled, y_train)\n",
    "\n",
    "y_pred_vc = vc.predict(X_test_scaled)\n",
    "\n",
    "acc_vc = classification_report(y_test, y_pred_vc)\n",
    "print(acc_vc)\n",
    "\n",
    "cm_vc = confusion_matrix(y_test, y_pred_vc)\n",
    "cm_vc"
   ]
  },
  {
   "cell_type": "markdown",
   "metadata": {},
   "source": [
    "## Conclusion\n",
    "**Add Conclusion**\n",
    "\n",
    "\n",
    "#### References\n",
    "1. Paper =  https://onlinelibrary.wiley.com/doi/10.1002/(SICI)1097-0010(199802)76:2%3C263::AID-JSFA943%3E3.0.CO;2-F\n",
    "2. Data = https://csr.quadram.ac.uk/example-datasets-for-download/\n",
    "3. Another paper using NN = https://www.mdpi.com/1424-8220/20/4/1223/htm#B1-sensors-20-01223"
   ]
  },
  {
   "cell_type": "code",
   "execution_count": null,
   "metadata": {},
   "outputs": [],
   "source": []
  }
 ],
 "metadata": {
  "kernelspec": {
   "display_name": "Python 3 (ipykernel)",
   "language": "python",
   "name": "python3"
  },
  "language_info": {
   "codemirror_mode": {
    "name": "ipython",
    "version": 3
   },
   "file_extension": ".py",
   "mimetype": "text/x-python",
   "name": "python",
   "nbconvert_exporter": "python",
   "pygments_lexer": "ipython3",
   "version": "3.8.12"
  }
 },
 "nbformat": 4,
 "nbformat_minor": 4
}
